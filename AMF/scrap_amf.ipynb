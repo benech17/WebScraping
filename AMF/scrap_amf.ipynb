{
 "cells": [
  {
   "cell_type": "code",
   "execution_count": 20,
   "metadata": {},
   "outputs": [],
   "source": [
    "from selenium import webdriver\n",
    "from selenium.webdriver.common.by import By\n",
    "from selenium.webdriver.support.ui import WebDriverWait\n",
    "from selenium.webdriver.support import expected_conditions as EC\n",
    "from selenium.common.exceptions import NoSuchElementException\n",
    "\n",
    "import sqlite3\n",
    "from datetime import datetime\n",
    "from tqdm import tqdm\n",
    "import locale\n",
    "\n",
    "def scrap_amf():\n",
    "    url_base = \"https://www.amf-france.org/fr/actualites-publications/la-une/toutes-les-actualites-et-publications\"\n",
    "    options = webdriver.ChromeOptions()\n",
    "    options.add_argument('--headless')\n",
    "    options.add_argument('--no-sandbox')\n",
    "    options.add_argument('--disable-dev-shm-usage')\n",
    "    driver = webdriver.Chrome(options=options)\n",
    "\n",
    "    driver.get(url_base)\n",
    "    # Réglage de la locale pour interpréter correctement les noms de mois en français\n",
    "    locale.setlocale(locale.LC_TIME, 'fr_FR')\n",
    "    conn = sqlite3.connect('new_amf.db')\n",
    "    cursor = conn.cursor()\n",
    "\n",
    "    cursor.execute('''\n",
    "            CREATE TABLE IF NOT EXISTS amf_articles (\n",
    "                id INTEGER PRIMARY KEY,\n",
    "                title TEXT NOT NULL,\n",
    "                date DATE,\n",
    "                link TEXT NOT NULL,\n",
    "                source TEXT NOT NULL,\n",
    "                content TEXT\n",
    "            )\n",
    "        ''')\n",
    "    conn.commit()\n",
    "    # Attendre que la table soit visible\n",
    "    full_xpath = \"/html/body/div[2]/div[1]/main/div[3]/div/div[2]/div/div[2]/div/div[2]/div/div[2]/table\"\n",
    "    WebDriverWait(driver, 30).until(EC.visibility_of_element_located((By.XPATH, full_xpath)))\n",
    "\n",
    "    try:\n",
    "        # Boucle pour naviguer à travers les pages\n",
    "        while True:\n",
    "            # Récupérer le numéro de la page courante\n",
    "            current_page = driver.find_element(By.CLASS_NAME, 'paginate_button.current').text\n",
    "            print(f\"Page actuelle : {current_page}\")\n",
    "\n",
    "            # Insérer ici votre logique pour extraire les données de la page actuelle\n",
    "            try:\n",
    "                rows = driver.find_elements(By.XPATH, f\"{full_xpath}/tbody/tr\")\n",
    "                urls = [row.find_element(By.XPATH, \".//td[3]/a\").get_attribute('href') for row in rows]\n",
    "\n",
    "                # Traiter chaque URL\n",
    "                for url in tqdm(urls, desc=\"Traitement des articles\"):\n",
    "                    # Ouvrir un nouvel onglet pour chaque URL\n",
    "                    driver.execute_script(\"window.open();\")\n",
    "                    driver.switch_to.window(driver.window_handles[1])  # Passer à l'onglet nouvellement ouvert\n",
    "                    driver.get(url)\n",
    "                    #print(f\"Traitement de l'URL : {url}\")\n",
    "                    \n",
    "                    article = {'URL': url}\n",
    "\n",
    "                    try:\n",
    "                        article['Titre'] = driver.find_element(By.CSS_SELECTOR, '.like-h1').text\n",
    "                    except:\n",
    "                        article['Titre'] = \"\"\n",
    "\n",
    "                    try:\n",
    "                        article['Date'] = driver.find_element(By.CSS_SELECTOR, '.date').text\n",
    "                        raw_date = datetime.strptime(article['Date'], \"%d %B %Y\")\n",
    "                        # Vérifier si la date est antérieure à 2023\n",
    "                        if raw_date.year < 2023:\n",
    "                            print(\"Date antérieure à 2023. Arrêt du scraping.\")\n",
    "                            return\n",
    "                        article['Date'] = raw_date.strftime(\"%Y-%m-%d\")  # Format ISO pour stockage\n",
    "                    except ValueError:\n",
    "                        print(f\"Format de date non reconnu : {raw_date}\")\n",
    "                        continue\n",
    "                    \n",
    "                    try:\n",
    "                        content_divs = driver.find_elements(By.CSS_SELECTOR, \n",
    "                                                                \"div.paragraph.paragraph--type--wysiwyg.paragraph--view-mode--default, div.intro\")\n",
    "                        article['Contenu'] = ' '.join([div.text for div in content_divs])\n",
    "                    except:\n",
    "                        article['Contenu'] = \"\"\n",
    "\n",
    "                    # Insertion dans la base de données\n",
    "                    if all(field != \"\" for field in article.values()):\n",
    "                        try:\n",
    "                            cursor.execute('SELECT COUNT(*) FROM amf_articles WHERE link = ?', (article['URL'],))\n",
    "                            if cursor.fetchone()[0] == 0:\n",
    "                                cursor.execute('INSERT INTO amf_articles (title, date, content, source, link) VALUES (?, ?, ?, ?, ?)', \n",
    "                                            (article['Titre'], article['Date'], article['Contenu'],\"AMF\", article['URL']))\n",
    "                                conn.commit()\n",
    "                                print(f\"Titre: {article['Titre']}\\nLien: {article['URL']}\\nDate de publication: {article['Date']}\\nContenu: {article['Contenu']}\\n\")\n",
    "                            else :\n",
    "                                print(f\"Article déjà existant dans la base de données : {article['URL']}\")\n",
    "                                \n",
    "                        except sqlite3.IntegrityError:\n",
    "                            print(f\"Erreur d'insertion dans la BDD : {article['URL']}\")\n",
    "                    # Fermer l'onglet actuel et retourner à l'onglet principal\n",
    "                    driver.close()\n",
    "                    driver.switch_to.window(driver.window_handles[0])\n",
    "\n",
    "            except NoSuchElementException:\n",
    "                print(\"Impossible de trouver les lignes ou URLs sur la page principale.\")\n",
    "            \n",
    "            try :    \n",
    "                # Passer à la page suivante en utilisant JavaScript pour cliquer\n",
    "                next_button = driver.find_element(By.ID, 'DataTables_Table_0_next')\n",
    "                if 'disabled' not in next_button.get_attribute('class'):\n",
    "                    driver.execute_script(\"arguments[0].click();\", next_button)\n",
    "                else:\n",
    "                    print(\"next page impossible\")\n",
    "                    break  # Sortir de la boucle si le bouton Suivant est désactivé (dernière page)\n",
    "            except :\n",
    "                print(\"erreur bouton next page\")\n",
    "\n",
    "            # Attente pour assurer le chargement de la page suivante\n",
    "            WebDriverWait(driver, 30).until(\n",
    "                EC.staleness_of(next_button)\n",
    "            )\n",
    "\n",
    "    except : \n",
    "        print(\"Erreur lors du scraping.\")\n",
    "    finally:\n",
    "        driver.quit()\n",
    "        conn.close()"
   ]
  },
  {
   "cell_type": "code",
   "execution_count": 21,
   "metadata": {},
   "outputs": [
    {
     "name": "stdout",
     "output_type": "stream",
     "text": [
      "Page actuelle : 1\n"
     ]
    },
    {
     "name": "stderr",
     "output_type": "stream",
     "text": [
      "Traitement des articles:  10%|█         | 1/10 [00:00<00:03,  2.47it/s]"
     ]
    },
    {
     "name": "stdout",
     "output_type": "stream",
     "text": [
      "Article déjà existant dans la base de données : https://www.amf-france.org/fr/actualites-publications/actualites/cybersecurite-et-risques-informatiques-lamf-appelle-les-acteurs-se-preparer-lentree-en-application\n"
     ]
    },
    {
     "name": "stderr",
     "output_type": "stream",
     "text": [
      "Traitement des articles:  20%|██        | 2/10 [00:00<00:03,  2.67it/s]"
     ]
    },
    {
     "name": "stdout",
     "output_type": "stream",
     "text": [
      "Article déjà existant dans la base de données : https://www.amf-france.org/fr/actualites-publications/actualites/lamf-rappelle-les-regles-didentification-des-investisseurs-particuliers-dans-le-reporting-des\n"
     ]
    },
    {
     "name": "stderr",
     "output_type": "stream",
     "text": [
      "Traitement des articles:  30%|███       | 3/10 [00:01<00:02,  2.82it/s]"
     ]
    },
    {
     "name": "stdout",
     "output_type": "stream",
     "text": [
      "Article déjà existant dans la base de données : https://www.amf-france.org/fr/le-mediateur/journal-de-bord-du-mediateur/dossiers-du-mois/scpi-une-demande-de-retrait-meme-reguliere-peut-etre-executee-dans-un-delai-indetermine\n"
     ]
    },
    {
     "name": "stderr",
     "output_type": "stream",
     "text": [
      "Traitement des articles:  40%|████      | 4/10 [00:01<00:01,  3.07it/s]"
     ]
    },
    {
     "name": "stdout",
     "output_type": "stream",
     "text": [
      "Article déjà existant dans la base de données : https://www.amf-france.org/fr/actualites-publications/communiques/communiques-de-la-commission-des-sanctions/la-commission-des-sanctions-de-lamf-met-hors-de-cause-douze-personnes-physiques-auxquelles-il-etait\n"
     ]
    },
    {
     "name": "stderr",
     "output_type": "stream",
     "text": [
      "Traitement des articles:  50%|█████     | 5/10 [00:01<00:01,  3.06it/s]"
     ]
    },
    {
     "name": "stdout",
     "output_type": "stream",
     "text": [
      "Article déjà existant dans la base de données : https://www.amf-france.org/fr/actualites-publications/publications/guides/guides-professionnels/guide-relatif-aux-droits-et-contributions-dus-lamf\n"
     ]
    },
    {
     "name": "stderr",
     "output_type": "stream",
     "text": [
      "Traitement des articles:  60%|██████    | 6/10 [00:02<00:01,  3.07it/s]"
     ]
    },
    {
     "name": "stdout",
     "output_type": "stream",
     "text": [
      "Article déjà existant dans la base de données : https://www.amf-france.org/fr/actualites-publications/communiques/communiques-de-lamf/lamf-met-en-garde-le-public-lencontre-de-publicites-frauduleuses-publiees-dans-la-presse-proposant\n"
     ]
    },
    {
     "name": "stderr",
     "output_type": "stream",
     "text": [
      "Traitement des articles:  70%|███████   | 7/10 [00:02<00:01,  2.70it/s]"
     ]
    },
    {
     "name": "stdout",
     "output_type": "stream",
     "text": [
      "Article déjà existant dans la base de données : https://www.amf-france.org/fr/actualites-publications/actualites/conseillers-en-investissements-participatifs-cip-chiffres-cles-2022\n"
     ]
    },
    {
     "name": "stderr",
     "output_type": "stream",
     "text": [
      "Traitement des articles:  80%|████████  | 8/10 [00:02<00:00,  2.85it/s]"
     ]
    },
    {
     "name": "stdout",
     "output_type": "stream",
     "text": [
      "Article déjà existant dans la base de données : https://www.amf-france.org/fr/actualites-publications/publications/rapports-etudes-et-analyses/chiffres-cles-2022-des-conseillers-en-investissements-participatifs-cip\n"
     ]
    },
    {
     "name": "stderr",
     "output_type": "stream",
     "text": [
      "Traitement des articles:  90%|█████████ | 9/10 [00:03<00:00,  2.95it/s]"
     ]
    },
    {
     "name": "stdout",
     "output_type": "stream",
     "text": [
      "Article déjà existant dans la base de données : https://www.amf-france.org/fr/actualites-publications/actualites/conseillers-en-investissements-financiers-cif-chiffres-cles-2022\n"
     ]
    },
    {
     "name": "stderr",
     "output_type": "stream",
     "text": [
      "Traitement des articles: 100%|██████████| 10/10 [00:03<00:00,  2.92it/s]"
     ]
    },
    {
     "name": "stdout",
     "output_type": "stream",
     "text": [
      "Article déjà existant dans la base de données : https://www.amf-france.org/fr/actualites-publications/publications/rapports-etudes-et-analyses/chiffres-cles-2022-des-conseillers-en-investissements-financiers-cif\n",
      "Page actuelle : 2\n"
     ]
    },
    {
     "name": "stderr",
     "output_type": "stream",
     "text": [
      "\n",
      "Traitement des articles:  10%|█         | 1/10 [00:00<00:04,  1.87it/s]"
     ]
    },
    {
     "name": "stdout",
     "output_type": "stream",
     "text": [
      "Article déjà existant dans la base de données : https://www.amf-france.org/fr/actualites-publications/communiques/communiques-de-lamf/astrid-milsan-exerce-les-fonctions-de-secretaire-generale-de-lamf-jusquau-15-avril-2024\n"
     ]
    },
    {
     "name": "stderr",
     "output_type": "stream",
     "text": [
      "Traitement des articles:  20%|██        | 2/10 [00:00<00:03,  2.54it/s]"
     ]
    },
    {
     "name": "stdout",
     "output_type": "stream",
     "text": [
      "Article déjà existant dans la base de données : https://www.amf-france.org/fr/actualites-publications/communiques/communiques-de-la-commission-des-sanctions/la-commission-des-sanctions-de-lamf-sanctionne-sept-personnes-dont-quatre-pour-manipulation-de-cours\n"
     ]
    },
    {
     "name": "stderr",
     "output_type": "stream",
     "text": [
      "Traitement des articles:  30%|███       | 3/10 [00:01<00:03,  2.07it/s]"
     ]
    },
    {
     "name": "stdout",
     "output_type": "stream",
     "text": [
      "Article déjà existant dans la base de données : https://www.amf-france.org/fr/actualites-publications/prises-de-parole/discours-de-marie-anne-barbat-layani-presidente-de-lamf-voeux-2024-la-place-financiere-jeudi-18\n"
     ]
    },
    {
     "name": "stderr",
     "output_type": "stream",
     "text": [
      "Traitement des articles:  40%|████      | 4/10 [00:01<00:02,  2.15it/s]"
     ]
    },
    {
     "name": "stdout",
     "output_type": "stream",
     "text": [
      "Article déjà existant dans la base de données : https://www.amf-france.org/fr/actualites-publications/actualites/lamf-rappelle-les-bonnes-pratiques-en-matiere-de-diffusion-de-linformation-privilegiee\n"
     ]
    },
    {
     "name": "stderr",
     "output_type": "stream",
     "text": [
      "Traitement des articles:  50%|█████     | 5/10 [00:02<00:02,  1.97it/s]"
     ]
    },
    {
     "name": "stdout",
     "output_type": "stream",
     "text": [
      "Article déjà existant dans la base de données : https://www.amf-france.org/fr/actualites-publications/communiques/communiques-de-lamf/lamf-publie-son-plan-daction-et-ses-priorites-de-supervision-pour-lannee-2024\n"
     ]
    },
    {
     "name": "stderr",
     "output_type": "stream",
     "text": [
      "Traitement des articles:  60%|██████    | 6/10 [00:03<00:02,  1.65it/s]"
     ]
    },
    {
     "name": "stdout",
     "output_type": "stream",
     "text": [
      "Article déjà existant dans la base de données : https://www.amf-france.org/fr/actualites-publications/publications/rapports-annuels-et-documents-institutionnels/priorites-de-supervision-de-lamf-pour-2024\n"
     ]
    },
    {
     "name": "stderr",
     "output_type": "stream",
     "text": [
      "Traitement des articles:  70%|███████   | 7/10 [00:03<00:01,  1.65it/s]"
     ]
    },
    {
     "name": "stdout",
     "output_type": "stream",
     "text": [
      "Article déjà existant dans la base de données : https://www.amf-france.org/fr/actualites-publications/publications/rapports-annuels-et-documents-institutionnels/plan-daction-et-priorites-de-supervision-de-lamf-pour-2024\n"
     ]
    },
    {
     "name": "stderr",
     "output_type": "stream",
     "text": [
      "Traitement des articles:  90%|█████████ | 9/10 [00:04<00:00,  2.04it/s]"
     ]
    },
    {
     "name": "stdout",
     "output_type": "stream",
     "text": [
      "Article déjà existant dans la base de données : https://www.amf-france.org/fr/le-mediateur/journal-de-bord-du-mediateur/dossiers-du-mois/bonne-annee-2024\n"
     ]
    },
    {
     "name": "stderr",
     "output_type": "stream",
     "text": [
      "Traitement des articles: 100%|██████████| 10/10 [00:05<00:00,  1.97it/s]"
     ]
    },
    {
     "name": "stdout",
     "output_type": "stream",
     "text": [
      "Article déjà existant dans la base de données : https://www.amf-france.org/fr/actualites-publications/communiques/communiques-de-lamf/lautorite-des-marches-financiers-met-en-garde-les-professionnels-contre-une-vague-dutilisation\n",
      "Page actuelle : 3\n"
     ]
    },
    {
     "name": "stderr",
     "output_type": "stream",
     "text": [
      "\n",
      "Traitement des articles:  10%|█         | 1/10 [00:00<00:03,  2.32it/s]"
     ]
    },
    {
     "name": "stdout",
     "output_type": "stream",
     "text": [
      "Article déjà existant dans la base de données : https://www.amf-france.org/fr/actualites-publications/publications/rapports-etudes-et-analyses/chiffres-cles-2022-de-la-gestion-dactifs\n"
     ]
    },
    {
     "name": "stderr",
     "output_type": "stream",
     "text": [
      "Traitement des articles:  20%|██        | 2/10 [00:00<00:03,  2.32it/s]"
     ]
    },
    {
     "name": "stdout",
     "output_type": "stream",
     "text": [
      "Article déjà existant dans la base de données : https://www.amf-france.org/fr/actualites-publications/communiques/communiques-de-la-commission-des-sanctions/la-commission-des-sanctions-de-lamf-sanctionne-un-conseiller-en-investissements-financiers-et-son-12\n"
     ]
    },
    {
     "name": "stderr",
     "output_type": "stream",
     "text": [
      "Traitement des articles:  30%|███       | 3/10 [00:01<00:02,  2.39it/s]"
     ]
    },
    {
     "name": "stdout",
     "output_type": "stream",
     "text": [
      "Article déjà existant dans la base de données : https://www.amf-france.org/fr/actualites-publications/actualites/entree-en-application-de-la-revision-du-reglement-sur-les-fonds-europeens-dinvestissement-long-terme\n"
     ]
    },
    {
     "name": "stderr",
     "output_type": "stream",
     "text": [
      "Traitement des articles:  40%|████      | 4/10 [00:01<00:03,  1.90it/s]"
     ]
    },
    {
     "name": "stdout",
     "output_type": "stream",
     "text": [
      "Article déjà existant dans la base de données : https://www.amf-france.org/fr/actualites-publications/communiques/communiques-de-lamf/lamf-et-lacpr-mettent-en-garde-le-public-contre-les-activites-de-plusieurs-acteurs-qui-proposent-en-6\n"
     ]
    },
    {
     "name": "stderr",
     "output_type": "stream",
     "text": [
      "Traitement des articles:  50%|█████     | 5/10 [00:02<00:02,  2.07it/s]"
     ]
    },
    {
     "name": "stdout",
     "output_type": "stream",
     "text": [
      "Article déjà existant dans la base de données : https://www.amf-france.org/fr/actualites-publications/actualites/une-manipulation-de-marche-identifiee-et-signalee-par-lamf-sanctionnee-par-le-tribunal-correctionnel\n"
     ]
    },
    {
     "name": "stderr",
     "output_type": "stream",
     "text": [
      "Traitement des articles:  60%|██████    | 6/10 [00:02<00:01,  2.14it/s]"
     ]
    },
    {
     "name": "stdout",
     "output_type": "stream",
     "text": [
      "Article déjà existant dans la base de données : https://www.amf-france.org/fr/actualites-publications/communiques/communiques-de-lamf/lamf-met-en-garde-le-public-contre-plusieurs-acteurs-qui-proposent-dinvestir-dans-des-biens-divers-2\n"
     ]
    },
    {
     "name": "stderr",
     "output_type": "stream",
     "text": [
      "Traitement des articles:  70%|███████   | 7/10 [00:03<00:01,  2.24it/s]"
     ]
    },
    {
     "name": "stdout",
     "output_type": "stream",
     "text": [
      "Article déjà existant dans la base de données : https://www.amf-france.org/fr/sanctions-transactions/communiques-de-la-commission-des-sanctions/la-commission-des-sanctions-de-lamf-sanctionne-un-ancien-dirigeant-dune-societe-cotee-pour-un\n"
     ]
    },
    {
     "name": "stderr",
     "output_type": "stream",
     "text": [
      "Traitement des articles:  80%|████████  | 8/10 [00:03<00:00,  2.37it/s]"
     ]
    },
    {
     "name": "stdout",
     "output_type": "stream",
     "text": [
      "Article déjà existant dans la base de données : https://www.amf-france.org/fr/actualites-publications/actualites/reunion-du-conseil-scientifique-de-lamf-16-novembre-2023\n"
     ]
    },
    {
     "name": "stderr",
     "output_type": "stream",
     "text": [
      "Traitement des articles:  90%|█████████ | 9/10 [00:04<00:00,  2.31it/s]"
     ]
    },
    {
     "name": "stdout",
     "output_type": "stream",
     "text": [
      "Article déjà existant dans la base de données : https://www.amf-france.org/fr/actualites-publications/communiques/communiques-de-lamf/investissement-en-actions-les-intentions-de-nouveau-en-hausse-portees-par-les-jeunes\n"
     ]
    },
    {
     "name": "stderr",
     "output_type": "stream",
     "text": [
      "Traitement des articles: 100%|██████████| 10/10 [00:04<00:00,  2.08it/s]"
     ]
    },
    {
     "name": "stdout",
     "output_type": "stream",
     "text": [
      "Article déjà existant dans la base de données : https://www.amf-france.org/fr/actualites-publications/publications/observatoire-de-lepargne/lettres-de-lobservatoire-de-lepargne/lettre-de-lobservatoire-de-lepargne-de-lamf-ndeg55-decembre-2023\n",
      "Page actuelle : 4\n"
     ]
    },
    {
     "name": "stderr",
     "output_type": "stream",
     "text": [
      "\n",
      "Traitement des articles:  10%|█         | 1/10 [00:00<00:03,  2.53it/s]"
     ]
    },
    {
     "name": "stdout",
     "output_type": "stream",
     "text": [
      "Article déjà existant dans la base de données : https://www.amf-france.org/fr/actualites-publications/publications/rapports-etudes-et-analyses/barometre-amf-de-lepargne-et-de-linvestissement-2023\n"
     ]
    },
    {
     "name": "stderr",
     "output_type": "stream",
     "text": [
      "Traitement des articles:  20%|██        | 2/10 [00:01<00:04,  1.92it/s]"
     ]
    },
    {
     "name": "stdout",
     "output_type": "stream",
     "text": [
      "Article déjà existant dans la base de données : https://www.amf-france.org/fr/actualites-publications/communiques/communiques-de-lamf/lamf-publie-la-synthese-dune-troisieme-campagne-de-controles-thematiques-sur-les-dispositifs-de\n"
     ]
    },
    {
     "name": "stderr",
     "output_type": "stream",
     "text": [
      "Traitement des articles:  30%|███       | 3/10 [00:01<00:03,  1.95it/s]"
     ]
    },
    {
     "name": "stdout",
     "output_type": "stream",
     "text": [
      "Article déjà existant dans la base de données : https://www.amf-france.org/fr/actualites-publications/communiques/communiques-de-la-commission-des-sanctions/la-commission-des-sanctions-de-lamf-sanctionne-un-conseiller-en-investissements-financiers-et-son-11\n"
     ]
    },
    {
     "name": "stderr",
     "output_type": "stream",
     "text": [
      "Traitement des articles:  40%|████      | 4/10 [00:02<00:03,  1.87it/s]"
     ]
    },
    {
     "name": "stdout",
     "output_type": "stream",
     "text": [
      "Article déjà existant dans la base de données : https://www.amf-france.org/fr/actualites-publications/actualites/les-trois-autorites-europeennes-de-supervision-esma-eba-et-eiopa-proposent-une-extension-de\n"
     ]
    },
    {
     "name": "stderr",
     "output_type": "stream",
     "text": [
      "Traitement des articles:  50%|█████     | 5/10 [00:02<00:02,  1.94it/s]"
     ]
    },
    {
     "name": "stdout",
     "output_type": "stream",
     "text": [
      "Article déjà existant dans la base de données : https://www.amf-france.org/fr/actualites-publications/publications/syntheses-des-controles-spot/synthese-des-controles-spot-relative-au-dispositif-de-cybersecurite-des-societes-de-gestion-de\n"
     ]
    },
    {
     "name": "stderr",
     "output_type": "stream",
     "text": [
      "Traitement des articles:  60%|██████    | 6/10 [00:03<00:01,  2.02it/s]"
     ]
    },
    {
     "name": "stdout",
     "output_type": "stream",
     "text": [
      "Article déjà existant dans la base de données : https://www.amf-france.org/fr/actualites-publications/actualites/evolution-des-procedures-dagrement-et-de-declaration-des-opc\n"
     ]
    },
    {
     "name": "stderr",
     "output_type": "stream",
     "text": [
      "Traitement des articles:  70%|███████   | 7/10 [00:03<00:01,  1.91it/s]"
     ]
    },
    {
     "name": "stdout",
     "output_type": "stream",
     "text": [
      "Article déjà existant dans la base de données : https://www.amf-france.org/fr/actualites-publications/actualites/lamf-met-jour-sa-doctrine-concernant-les-informations-fournir-par-les-placements-collectifs-0\n"
     ]
    },
    {
     "name": "stderr",
     "output_type": "stream",
     "text": [
      "Traitement des articles:  80%|████████  | 8/10 [00:04<00:01,  1.75it/s]"
     ]
    },
    {
     "name": "stdout",
     "output_type": "stream",
     "text": [
      "Article déjà existant dans la base de données : https://www.amf-france.org/fr/actualites-publications/actualites/exigences-applicables-aux-comites-dinvestissement-et-au-rattachement-des-gerants-financiers-des\n"
     ]
    },
    {
     "name": "stderr",
     "output_type": "stream",
     "text": [
      "Traitement des articles:  90%|█████████ | 9/10 [00:04<00:00,  1.87it/s]"
     ]
    },
    {
     "name": "stdout",
     "output_type": "stream",
     "text": [
      "Article déjà existant dans la base de données : https://www.amf-france.org/fr/actualites-publications/evenements-de-lamf/colloques-et-conferences-de-lamf/les-20-ans-de-lamf-conference-anniversaire-2003-2023-videos-et-discours\n"
     ]
    },
    {
     "name": "stderr",
     "output_type": "stream",
     "text": [
      "Traitement des articles: 100%|██████████| 10/10 [00:05<00:00,  1.82it/s]"
     ]
    },
    {
     "name": "stdout",
     "output_type": "stream",
     "text": [
      "Article déjà existant dans la base de données : https://www.amf-france.org/fr/actualites-publications/communiques/communiques-de-lamf/lamf-fait-des-propositions-pour-renforcer-linformation-des-investisseurs-sur-levaluation-des\n",
      "Page actuelle : 5\n"
     ]
    },
    {
     "name": "stderr",
     "output_type": "stream",
     "text": [
      "\n",
      "Traitement des articles:  10%|█         | 1/10 [00:00<00:04,  2.15it/s]"
     ]
    },
    {
     "name": "stdout",
     "output_type": "stream",
     "text": [
      "Article déjà existant dans la base de données : https://www.amf-france.org/fr/actualites-publications/publications/rapports-etudes-et-analyses/rapport-2023-sur-le-gouvernement-dentreprise-et-remuneration-des-dirigeants-des-societes-cotees\n"
     ]
    },
    {
     "name": "stderr",
     "output_type": "stream",
     "text": [
      "Traitement des articles:  20%|██        | 2/10 [00:00<00:03,  2.40it/s]"
     ]
    },
    {
     "name": "stdout",
     "output_type": "stream",
     "text": [
      "Article déjà existant dans la base de données : https://www.amf-france.org/fr/actualites-publications/evenements-de-lamf/colloques-et-conferences-de-lamf/webinaire-rapport-amf-sur-le-reporting-taxonomie-des-societes-cotees-non-financieres-video\n"
     ]
    },
    {
     "name": "stderr",
     "output_type": "stream",
     "text": [
      "Traitement des articles:  30%|███       | 3/10 [00:02<00:05,  1.23it/s]"
     ]
    },
    {
     "name": "stdout",
     "output_type": "stream",
     "text": [
      "Article déjà existant dans la base de données : https://www.amf-france.org/fr/actualites-publications/evenements-de-lamf/colloques-et-conferences-de-lamf/le-conseil-en-investissement-et-les-exigences-en-matiere-dadequation-atelier-amf\n"
     ]
    },
    {
     "name": "stderr",
     "output_type": "stream",
     "text": [
      "Traitement des articles:  30%|███       | 3/10 [00:02<00:05,  1.27it/s]\n"
     ]
    },
    {
     "name": "stdout",
     "output_type": "stream",
     "text": [
      "Erreur lors du scraping.\n"
     ]
    }
   ],
   "source": [
    "scrap_amf()"
   ]
  },
  {
   "cell_type": "code",
   "execution_count": null,
   "metadata": {},
   "outputs": [],
   "source": []
  }
 ],
 "metadata": {
  "kernelspec": {
   "display_name": "EYenv",
   "language": "python",
   "name": "python3"
  },
  "language_info": {
   "codemirror_mode": {
    "name": "ipython",
    "version": 3
   },
   "file_extension": ".py",
   "mimetype": "text/x-python",
   "name": "python",
   "nbconvert_exporter": "python",
   "pygments_lexer": "ipython3",
   "version": "3.10.11"
  }
 },
 "nbformat": 4,
 "nbformat_minor": 2
}
